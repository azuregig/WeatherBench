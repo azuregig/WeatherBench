{
  "cells": [
    {
      "cell_type": "code",
      "source": [
        "from azureml.core import Workspace, Datastore, Dataset\r\n",
        "ws = Workspace.from_config()"
      ],
      "outputs": [],
      "execution_count": 2,
      "metadata": {
        "jupyter": {
          "outputs_hidden": true
        }
      }
    },
    {
      "cell_type": "code",
      "source": [
        "# check data on compute - note: /tmp/ is wiped on every compute restart\r\n",
        "!du -h /tmp/geopotential_500\r\n",
        "!du -h /tmp/temperature_850"
      ],
      "outputs": [
        {
          "output_type": "stream",
          "name": "stdout",
          "text": "du: cannot access '/tmp/geopotential_500': No such file or directory\r\n2.7G\t/tmp/temperature_850\r\n"
        }
      ],
      "execution_count": 16,
      "metadata": {
        "jupyter": {
          "source_hidden": false,
          "outputs_hidden": false
        },
        "nteract": {
          "transient": {
            "deleting": false
          }
        }
      }
    },
    {
      "cell_type": "markdown",
      "source": [
        "# Note: Azure ML vs Azure Data Factory for intial load of data\r\n",
        "Here we use a scripted download via the Azure ML compute instance to obtain extenal data, and upload it from this temporary location\r\n",
        "to the Azure Data Lake as a one-off operation (The datalake is already connected as a linked Azure ML Datastore).\r\n",
        "\r\n",
        "Azure Data Factory provides alternatives for directly ingesting external data into the Data Lake, thus skipping the download to a local temporary directory.\r\n",
        "\r\n",
        "Once the data is in the Data Lake, we can register the data as Azure ML Dataset(s), allowing us to pass the reference when submitting Azure ML Jobs.\r\n",
        "\r\n"
      ],
      "metadata": {
        "nteract": {
          "transient": {
            "deleting": false
          }
        }
      }
    },
    {
      "cell_type": "code",
      "source": [
        "# download geopotential data\r\n",
        "!wget \"https://dataserv.ub.tum.de/s/m1524895/download?path=%2F5.625deg%2Fgeopotential_500&files=geopotential_500_5.625deg.zip\" -O geopotential_500_5.625deg.zip --no-check-certificate"
      ],
      "outputs": [],
      "execution_count": null,
      "metadata": {
        "jupyter": {
          "source_hidden": false,
          "outputs_hidden": false
        },
        "nteract": {
          "transient": {
            "deleting": false
          }
        }
      }
    },
    {
      "cell_type": "code",
      "source": [
        "!mkdir -p /tmp/geopotential_500\r\n",
        "!unzip -d /tmp/geopotential_500/ geopotential_500_5.625deg.zip"
      ],
      "outputs": [],
      "execution_count": null,
      "metadata": {
        "jupyter": {
          "source_hidden": false,
          "outputs_hidden": false
        },
        "nteract": {
          "transient": {
            "deleting": false
          }
        }
      }
    },
    {
      "cell_type": "code",
      "source": [
        "# download temperature data\r\n",
        "!wget \"https://dataserv.ub.tum.de/s/m1524895/download?path=%2F5.625deg%2Ftemperature_850&files=temperature_850_5.625deg.zip\" -O temperature_850_5.625deg.zip --no-check-certificate"
      ],
      "outputs": [
        {
          "output_type": "stream",
          "name": "stdout",
          "text": "--2022-07-11 20:35:07--  https://dataserv.ub.tum.de/s/m1524895/download?path=%2F5.625deg%2Ftemperature_850&files=temperature_850_5.625deg.zip\nResolving dataserv.ub.tum.de (dataserv.ub.tum.de)... 138.246.224.34, 2001:4ca0:800::8af6:e022\nConnecting to dataserv.ub.tum.de (dataserv.ub.tum.de)|138.246.224.34|:443... connected.\nWARNING: cannot verify dataserv.ub.tum.de's certificate, issued by ‘CN=DFN-Verein Global Issuing CA,OU=DFN-PKI,O=Verein zur Foerderung eines Deutschen Forschungsnetzes e. V.,C=DE’:\n  Unable to locally verify the issuer's authority.\nHTTP request sent, awaiting response... 200 OK\nLength: 2254621588 (2.1G) [application/zip]\nSaving to: ‘temperature_850_5.625deg.zip’\n\ntemperature_850_5.6 100%[===================>]   2.10G  25.4MB/s    in 85s     \n\n2022-07-11 20:36:33 (25.2 MB/s) - ‘temperature_850_5.625deg.zip’ saved [2254621588/2254621588]\n\n"
        }
      ],
      "execution_count": 4,
      "metadata": {
        "jupyter": {
          "source_hidden": false,
          "outputs_hidden": false
        },
        "nteract": {
          "transient": {
            "deleting": false
          }
        }
      }
    },
    {
      "cell_type": "code",
      "source": [
        "!mkdir -p /tmp/temperature_850\r\n",
        "!unzip -d /tmp/temperature_850/ temperature_850_5.625deg.zip"
      ],
      "outputs": [
        {
          "output_type": "stream",
          "name": "stdout",
          "text": "Archive:  temperature_850_5.625deg.zip\n  inflating: /tmp/temperature_850/temperature_850hPa_1979_5.625deg.nc  \n  inflating: /tmp/temperature_850/temperature_850hPa_1980_5.625deg.nc  \n  inflating: /tmp/temperature_850/temperature_850hPa_1981_5.625deg.nc  \n  inflating: /tmp/temperature_850/temperature_850hPa_1982_5.625deg.nc  \n  inflating: /tmp/temperature_850/temperature_850hPa_1983_5.625deg.nc  \n  inflating: /tmp/temperature_850/temperature_850hPa_1984_5.625deg.nc  \n  inflating: /tmp/temperature_850/temperature_850hPa_1985_5.625deg.nc  \n  inflating: /tmp/temperature_850/temperature_850hPa_1986_5.625deg.nc  \n  inflating: /tmp/temperature_850/temperature_850hPa_1987_5.625deg.nc  \n  inflating: /tmp/temperature_850/temperature_850hPa_1988_5.625deg.nc  \n  inflating: /tmp/temperature_850/temperature_850hPa_1989_5.625deg.nc  \n  inflating: /tmp/temperature_850/temperature_850hPa_1990_5.625deg.nc  \n  inflating: /tmp/temperature_850/temperature_850hPa_1991_5.625deg.nc  \n  inflating: /tmp/temperature_850/temperature_850hPa_1992_5.625deg.nc  \n  inflating: /tmp/temperature_850/temperature_850hPa_1993_5.625deg.nc  \n  inflating: /tmp/temperature_850/temperature_850hPa_1994_5.625deg.nc  \n  inflating: /tmp/temperature_850/temperature_850hPa_1995_5.625deg.nc  \n  inflating: /tmp/temperature_850/temperature_850hPa_1996_5.625deg.nc  \n  inflating: /tmp/temperature_850/temperature_850hPa_1997_5.625deg.nc  \n  inflating: /tmp/temperature_850/temperature_850hPa_1998_5.625deg.nc  \n  inflating: /tmp/temperature_850/temperature_850hPa_1999_5.625deg.nc  \n  inflating: /tmp/temperature_850/temperature_850hPa_2000_5.625deg.nc  \n  inflating: /tmp/temperature_850/temperature_850hPa_2001_5.625deg.nc  \n  inflating: /tmp/temperature_850/temperature_850hPa_2002_5.625deg.nc  \n  inflating: /tmp/temperature_850/temperature_850hPa_2003_5.625deg.nc  \n  inflating: /tmp/temperature_850/temperature_850hPa_2004_5.625deg.nc  \n  inflating: /tmp/temperature_850/temperature_850hPa_2005_5.625deg.nc  \n  inflating: /tmp/temperature_850/temperature_850hPa_2006_5.625deg.nc  \n  inflating: /tmp/temperature_850/temperature_850hPa_2007_5.625deg.nc  \n  inflating: /tmp/temperature_850/temperature_850hPa_2008_5.625deg.nc  \n  inflating: /tmp/temperature_850/temperature_850hPa_2009_5.625deg.nc  \n  inflating: /tmp/temperature_850/temperature_850hPa_2010_5.625deg.nc  \n  inflating: /tmp/temperature_850/temperature_850hPa_2011_5.625deg.nc  \n  inflating: /tmp/temperature_850/temperature_850hPa_2012_5.625deg.nc  \n  inflating: /tmp/temperature_850/temperature_850hPa_2013_5.625deg.nc  \n  inflating: /tmp/temperature_850/temperature_850hPa_2014_5.625deg.nc  \n  inflating: /tmp/temperature_850/temperature_850hPa_2015_5.625deg.nc  \n  inflating: /tmp/temperature_850/temperature_850hPa_2016_5.625deg.nc  \n  inflating: /tmp/temperature_850/temperature_850hPa_2017_5.625deg.nc  \n  inflating: /tmp/temperature_850/temperature_850hPa_2018_5.625deg.nc  \n"
        }
      ],
      "execution_count": 5,
      "metadata": {
        "jupyter": {
          "source_hidden": false,
          "outputs_hidden": false
        },
        "nteract": {
          "transient": {
            "deleting": false
          }
        }
      }
    },
    {
      "cell_type": "code",
      "source": [
        "# check local directory size\r\n",
        "!du -h /tmp/geopotential_500\r\n",
        "!du -h /tmp/temperature_850\r\n"
      ],
      "outputs": [
        {
          "output_type": "stream",
          "name": "stdout",
          "text": "du: cannot access '/tmp/geopotential_500': No such file or directory\r\n2.7G\t/tmp/temperature_850\r\n"
        }
      ],
      "execution_count": 6,
      "metadata": {
        "jupyter": {
          "source_hidden": false,
          "outputs_hidden": false
        },
        "nteract": {
          "transient": {
            "deleting": false
          }
        }
      }
    },
    {
      "cell_type": "markdown",
      "source": [
        "# Upload Local Files to datalake\r\n",
        "doc link: https://docs.microsoft.com/en-us/python/api/azureml-core/azureml.data.dataset_factory.filedatasetfactory?view=azure-ml-py#azureml-data-dataset-factory-filedatasetfactory-upload-directory\r\n"
      ],
      "metadata": {
        "nteract": {
          "transient": {
            "deleting": false
          }
        }
      }
    },
    {
      "cell_type": "code",
      "source": [
        "# specify the target datastore that will hold the datasets (already configured in workspace)\r\n",
        "datastore = Datastore.get(ws, 'azuregigdatalake_bronze')\r\n"
      ],
      "outputs": [],
      "execution_count": 7,
      "metadata": {
        "jupyter": {
          "source_hidden": false,
          "outputs_hidden": false
        },
        "nteract": {
          "transient": {
            "deleting": false
          }
        }
      }
    },
    {
      "cell_type": "code",
      "source": [
        "# upload the geopotential data\r\n",
        "geo500 = Dataset.File.upload_directory(src_dir = \"/tmp/geopotential_500\", \r\n",
        "                                       target=(datastore,\"nc/TUM/WeatherBench/5.625deg/geopotential_500\"), \r\n",
        "                                       pattern=\"*.nc\", \r\n",
        "                                       overwrite=False, \r\n",
        "                                       show_progress=True)"
      ],
      "outputs": [],
      "execution_count": null,
      "metadata": {
        "jupyter": {
          "source_hidden": false,
          "outputs_hidden": false
        },
        "nteract": {
          "transient": {
            "deleting": false
          }
        }
      }
    },
    {
      "cell_type": "code",
      "source": [
        "# we now have an anonymous file dataset object\r\n",
        "print(type(geo500))\r\n",
        "print(geo500)"
      ],
      "outputs": [],
      "execution_count": null,
      "metadata": {
        "jupyter": {
          "source_hidden": false,
          "outputs_hidden": false
        },
        "nteract": {
          "transient": {
            "deleting": false
          }
        }
      }
    },
    {
      "cell_type": "code",
      "source": [
        "# [DEMO]: Register the dataset\r\n",
        "geo500ds = "
      ],
      "outputs": [],
      "execution_count": null,
      "metadata": {
        "jupyter": {
          "source_hidden": false,
          "outputs_hidden": false
        },
        "nteract": {
          "transient": {
            "deleting": false
          }
        }
      }
    },
    {
      "cell_type": "code",
      "source": [
        "# upload the temperature data\r\n",
        "temp850 = Dataset.File.upload_directory(src_dir = \"/tmp/temperature_850\", \r\n",
        "                                       target=(datastore,\"nc/TUM/WeatherBench/5.625deg/temperature_850\"), \r\n",
        "                                       pattern=\"*.nc\", \r\n",
        "                                       overwrite=False, \r\n",
        "                                       show_progress=True)"
      ],
      "outputs": [
        {
          "output_type": "stream",
          "name": "stdout",
          "text": "Validating arguments.\nArguments validated.\nUploading file to nc/TUM/WeatherBench/5.625deg/temperature_850\nFiltering files with pattern matching *.nc\nUploading an estimated of 40 files\nUploading /tmp/temperature_850/temperature_850hPa_1982_5.625deg.nc\nUploaded /tmp/temperature_850/temperature_850hPa_1982_5.625deg.nc, 1 files out of an estimated total of 40\nUploading /tmp/temperature_850/temperature_850hPa_2005_5.625deg.nc\nUploaded /tmp/temperature_850/temperature_850hPa_2005_5.625deg.nc, 2 files out of an estimated total of 40\nUploading /tmp/temperature_850/temperature_850hPa_2018_5.625deg.nc\nUploaded /tmp/temperature_850/temperature_850hPa_2018_5.625deg.nc, 3 files out of an estimated total of 40\nUploading /tmp/temperature_850/temperature_850hPa_2013_5.625deg.nc\nUploaded /tmp/temperature_850/temperature_850hPa_2013_5.625deg.nc, 4 files out of an estimated total of 40\nUploading /tmp/temperature_850/temperature_850hPa_1980_5.625deg.nc\nUploaded /tmp/temperature_850/temperature_850hPa_1980_5.625deg.nc, 5 files out of an estimated total of 40\nUploading /tmp/temperature_850/temperature_850hPa_2000_5.625deg.nc\nUploaded /tmp/temperature_850/temperature_850hPa_2000_5.625deg.nc, 6 files out of an estimated total of 40\nUploading /tmp/temperature_850/temperature_850hPa_1996_5.625deg.nc\nUploaded /tmp/temperature_850/temperature_850hPa_1996_5.625deg.nc, 7 files out of an estimated total of 40\nUploading /tmp/temperature_850/temperature_850hPa_1999_5.625deg.nc\nUploaded /tmp/temperature_850/temperature_850hPa_1999_5.625deg.nc, 8 files out of an estimated total of 40\nUploading /tmp/temperature_850/temperature_850hPa_1981_5.625deg.nc\nUploaded /tmp/temperature_850/temperature_850hPa_1981_5.625deg.nc, 9 files out of an estimated total of 40\nUploading /tmp/temperature_850/temperature_850hPa_2003_5.625deg.nc\nUploaded /tmp/temperature_850/temperature_850hPa_2003_5.625deg.nc, 10 files out of an estimated total of 40\nUploading /tmp/temperature_850/temperature_850hPa_1992_5.625deg.nc\nUploaded /tmp/temperature_850/temperature_850hPa_1992_5.625deg.nc, 11 files out of an estimated total of 40\nUploading /tmp/temperature_850/temperature_850hPa_1994_5.625deg.nc\nUploaded /tmp/temperature_850/temperature_850hPa_1994_5.625deg.nc, 12 files out of an estimated total of 40\nUploading /tmp/temperature_850/temperature_850hPa_1993_5.625deg.nc\nUploaded /tmp/temperature_850/temperature_850hPa_1993_5.625deg.nc, 13 files out of an estimated total of 40\nUploading /tmp/temperature_850/temperature_850hPa_1988_5.625deg.nc\nUploaded /tmp/temperature_850/temperature_850hPa_1988_5.625deg.nc, 14 files out of an estimated total of 40\nUploading /tmp/temperature_850/temperature_850hPa_1998_5.625deg.nc\nUploaded /tmp/temperature_850/temperature_850hPa_1998_5.625deg.nc, 15 files out of an estimated total of 40\nUploading /tmp/temperature_850/temperature_850hPa_2001_5.625deg.nc\nUploaded /tmp/temperature_850/temperature_850hPa_2001_5.625deg.nc, 16 files out of an estimated total of 40\nUploading /tmp/temperature_850/temperature_850hPa_1983_5.625deg.nc\nUploaded /tmp/temperature_850/temperature_850hPa_1983_5.625deg.nc, 17 files out of an estimated total of 40\nUploading /tmp/temperature_850/temperature_850hPa_2009_5.625deg.nc\nUploaded /tmp/temperature_850/temperature_850hPa_2009_5.625deg.nc, 18 files out of an estimated total of 40\nUploading /tmp/temperature_850/temperature_850hPa_2010_5.625deg.nc\nUploaded /tmp/temperature_850/temperature_850hPa_2010_5.625deg.nc, 19 files out of an estimated total of 40\nUploading /tmp/temperature_850/temperature_850hPa_2014_5.625deg.nc\nUploaded /tmp/temperature_850/temperature_850hPa_2014_5.625deg.nc, 20 files out of an estimated total of 40\nUploading /tmp/temperature_850/temperature_850hPa_1986_5.625deg.nc\nUploaded /tmp/temperature_850/temperature_850hPa_1986_5.625deg.nc, 21 files out of an estimated total of 40\nUploading /tmp/temperature_850/temperature_850hPa_1987_5.625deg.nc\nUploaded /tmp/temperature_850/temperature_850hPa_1987_5.625deg.nc, 22 files out of an estimated total of 40\nUploading /tmp/temperature_850/temperature_850hPa_1984_5.625deg.nc\nUploaded /tmp/temperature_850/temperature_850hPa_1984_5.625deg.nc, 23 files out of an estimated total of 40\nUploading /tmp/temperature_850/temperature_850hPa_1991_5.625deg.nc\nUploaded /tmp/temperature_850/temperature_850hPa_1991_5.625deg.nc, 24 files out of an estimated total of 40\nUploading /tmp/temperature_850/temperature_850hPa_1989_5.625deg.nc\nUploaded /tmp/temperature_850/temperature_850hPa_1989_5.625deg.nc, 25 files out of an estimated total of 40\nUploading /tmp/temperature_850/temperature_850hPa_2007_5.625deg.nc\nUploaded /tmp/temperature_850/temperature_850hPa_2007_5.625deg.nc, 26 files out of an estimated total of 40\nUploading /tmp/temperature_850/temperature_850hPa_2006_5.625deg.nc\nUploaded /tmp/temperature_850/temperature_850hPa_2006_5.625deg.nc, 27 files out of an estimated total of 40\nUploading /tmp/temperature_850/temperature_850hPa_1985_5.625deg.nc\nUploaded /tmp/temperature_850/temperature_850hPa_1985_5.625deg.nc, 28 files out of an estimated total of 40\nUploading /tmp/temperature_850/temperature_850hPa_2012_5.625deg.nc\nUploaded /tmp/temperature_850/temperature_850hPa_2012_5.625deg.nc, 29 files out of an estimated total of 40\nUploading /tmp/temperature_850/temperature_850hPa_2002_5.625deg.nc\nUploaded /tmp/temperature_850/temperature_850hPa_2002_5.625deg.nc, 30 files out of an estimated total of 40\nUploading /tmp/temperature_850/temperature_850hPa_1995_5.625deg.nc\nUploaded /tmp/temperature_850/temperature_850hPa_1995_5.625deg.nc, 31 files out of an estimated total of 40\nUploading /tmp/temperature_850/temperature_850hPa_2015_5.625deg.nc\nUploaded /tmp/temperature_850/temperature_850hPa_2015_5.625deg.nc, 32 files out of an estimated total of 40\nUploading /tmp/temperature_850/temperature_850hPa_2017_5.625deg.nc\nUploaded /tmp/temperature_850/temperature_850hPa_2017_5.625deg.nc, 33 files out of an estimated total of 40\nUploading /tmp/temperature_850/temperature_850hPa_1979_5.625deg.nc\nUploaded /tmp/temperature_850/temperature_850hPa_1979_5.625deg.nc, 34 files out of an estimated total of 40\nUploading /tmp/temperature_850/temperature_850hPa_2011_5.625deg.nc\nUploaded /tmp/temperature_850/temperature_850hPa_2011_5.625deg.nc, 35 files out of an estimated total of 40\nUploading /tmp/temperature_850/temperature_850hPa_1997_5.625deg.nc\nUploaded /tmp/temperature_850/temperature_850hPa_1997_5.625deg.nc, 36 files out of an estimated total of 40\nUploading /tmp/temperature_850/temperature_850hPa_2016_5.625deg.nc\nUploaded /tmp/temperature_850/temperature_850hPa_2016_5.625deg.nc, 37 files out of an estimated total of 40\nUploading /tmp/temperature_850/temperature_850hPa_1990_5.625deg.nc\nUploaded /tmp/temperature_850/temperature_850hPa_1990_5.625deg.nc, 38 files out of an estimated total of 40\nUploading /tmp/temperature_850/temperature_850hPa_2004_5.625deg.nc\nUploaded /tmp/temperature_850/temperature_850hPa_2004_5.625deg.nc, 39 files out of an estimated total of 40\nUploading /tmp/temperature_850/temperature_850hPa_2008_5.625deg.nc\nUploaded /tmp/temperature_850/temperature_850hPa_2008_5.625deg.nc, 40 files out of an estimated total of 40\nUploaded 40 files\nCreating new dataset\n"
        }
      ],
      "execution_count": 8,
      "metadata": {
        "jupyter": {
          "source_hidden": false,
          "outputs_hidden": false
        },
        "nteract": {
          "transient": {
            "deleting": false
          }
        }
      }
    },
    {
      "cell_type": "code",
      "source": [
        "# we now have an anonymous file dataset object\r\n",
        "print(type(temp850))\r\n",
        "print(temp850)"
      ],
      "outputs": [
        {
          "output_type": "stream",
          "name": "stdout",
          "text": "<class 'azureml.data.file_dataset.FileDataset'>\nFileDataset\n{\n  \"source\": [\n    \"('azuregigdatalake_bronze', '/nc/TUM/WeatherBench/5.625deg/temperature_850')\"\n  ],\n  \"definition\": [\n    \"GetDatastoreFiles\"\n  ]\n}\n"
        }
      ],
      "execution_count": 12,
      "metadata": {
        "jupyter": {
          "source_hidden": false,
          "outputs_hidden": false
        },
        "nteract": {
          "transient": {
            "deleting": false
          }
        }
      }
    },
    {
      "cell_type": "code",
      "source": [
        "# Once registered, we can always get the this dataset object (pointer to data location) from the workspace from any compute\r\n",
        "temp850ds = temp850.register(ws, \r\n",
        "                 name='temperature_850_5.625deg',\r\n",
        "                 description=\"WeatherBench dataset 1979-2018. Source: Stephan Rasp, Peter D. Dueben, Sebastian Scher, Jonathan A. Weyn, Soukayna Mouatadid, and Nils Thuerey, 2020. WeatherBench: A benchmark dataset for data-driven weather forecasting. arXiv: https://arxiv.org/abs/2002.00469\",\r\n",
        "                 tags={\r\n",
        "                     \"data\":\"temperature\", \r\n",
        "                     \"grid\":\"5.625deg\", \r\n",
        "                     \"vlevel\":\"850hpa\", \r\n",
        "                     \"filetype\":\"nc\" },\r\n",
        "                 create_new_version=False\r\n",
        "            )"
      ],
      "outputs": [],
      "execution_count": 15,
      "metadata": {
        "jupyter": {
          "source_hidden": false,
          "outputs_hidden": false
        },
        "nteract": {
          "transient": {
            "deleting": false
          }
        }
      }
    },
    {
      "cell_type": "code",
      "source": [],
      "outputs": [],
      "execution_count": null,
      "metadata": {
        "jupyter": {
          "source_hidden": false,
          "outputs_hidden": false
        },
        "nteract": {
          "transient": {
            "deleting": false
          }
        }
      }
    }
  ],
  "metadata": {
    "kernelspec": {
      "name": "python38-azureml",
      "language": "python",
      "display_name": "Python 3.8 - AzureML"
    },
    "language_info": {
      "name": "python",
      "version": "3.8.5",
      "mimetype": "text/x-python",
      "codemirror_mode": {
        "name": "ipython",
        "version": 3
      },
      "pygments_lexer": "ipython3",
      "nbconvert_exporter": "python",
      "file_extension": ".py"
    },
    "kernel_info": {
      "name": "python38-azureml"
    },
    "nteract": {
      "version": "nteract-front-end@1.0.0"
    }
  },
  "nbformat": 4,
  "nbformat_minor": 0
}
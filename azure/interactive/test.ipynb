{
  "cells": [
    {
      "cell_type": "code",
      "source": [
        "# verify the correct environment is used\n",
        "import sys\n",
        "sys.executable"
      ],
      "outputs": [
        {
          "output_type": "execute_result",
          "execution_count": 1,
          "data": {
            "text/plain": "'/anaconda/envs/weatherbench2/bin/python'"
          },
          "metadata": {}
        }
      ],
      "execution_count": 1,
      "metadata": {}
    },
    {
      "cell_type": "code",
      "source": [
        "# review local directory\n",
        "!ls /tmp/geopotential_500"
      ],
      "outputs": [
        {
          "output_type": "stream",
          "name": "stdout",
          "text": "geopotential_500hPa_1979_5.625deg.nc  geopotential_500hPa_1999_5.625deg.nc\ngeopotential_500hPa_1980_5.625deg.nc  geopotential_500hPa_2000_5.625deg.nc\ngeopotential_500hPa_1981_5.625deg.nc  geopotential_500hPa_2001_5.625deg.nc\ngeopotential_500hPa_1982_5.625deg.nc  geopotential_500hPa_2002_5.625deg.nc\ngeopotential_500hPa_1983_5.625deg.nc  geopotential_500hPa_2003_5.625deg.nc\ngeopotential_500hPa_1984_5.625deg.nc  geopotential_500hPa_2004_5.625deg.nc\ngeopotential_500hPa_1985_5.625deg.nc  geopotential_500hPa_2005_5.625deg.nc\ngeopotential_500hPa_1986_5.625deg.nc  geopotential_500hPa_2006_5.625deg.nc\ngeopotential_500hPa_1987_5.625deg.nc  geopotential_500hPa_2007_5.625deg.nc\ngeopotential_500hPa_1988_5.625deg.nc  geopotential_500hPa_2008_5.625deg.nc\ngeopotential_500hPa_1989_5.625deg.nc  geopotential_500hPa_2009_5.625deg.nc\ngeopotential_500hPa_1990_5.625deg.nc  geopotential_500hPa_2010_5.625deg.nc\ngeopotential_500hPa_1991_5.625deg.nc  geopotential_500hPa_2011_5.625deg.nc\ngeopotential_500hPa_1992_5.625deg.nc  geopotential_500hPa_2012_5.625deg.nc\ngeopotential_500hPa_1993_5.625deg.nc  geopotential_500hPa_2013_5.625deg.nc\ngeopotential_500hPa_1994_5.625deg.nc  geopotential_500hPa_2014_5.625deg.nc\ngeopotential_500hPa_1995_5.625deg.nc  geopotential_500hPa_2015_5.625deg.nc\ngeopotential_500hPa_1996_5.625deg.nc  geopotential_500hPa_2016_5.625deg.nc\ngeopotential_500hPa_1997_5.625deg.nc  geopotential_500hPa_2017_5.625deg.nc\ngeopotential_500hPa_1998_5.625deg.nc  geopotential_500hPa_2018_5.625deg.nc\n"
        }
      ],
      "execution_count": 8,
      "metadata": {}
    },
    {
      "cell_type": "code",
      "source": [
        "# check local directory size\n",
        "!du -h /tmp/geopotential_500"
      ],
      "outputs": [
        {
          "output_type": "stream",
          "name": "stdout",
          "text": "2.7G\t/tmp/geopotential_500\n"
        }
      ],
      "execution_count": 7,
      "metadata": {}
    },
    {
      "cell_type": "code",
      "source": [],
      "outputs": [],
      "execution_count": null,
      "metadata": {}
    }
  ],
  "metadata": {
    "interpreter": {
      "hash": "c0b4f3d1c80bc43ebb6dd9c8f4242c210a0f34d2578d89cb73f5a223c98aa21e"
    },
    "kernelspec": {
      "display_name": "Python 3.7.12 ('weatherbench2')",
      "language": "python",
      "name": "python3"
    },
    "language_info": {
      "name": "python",
      "version": "3.8.5",
      "mimetype": "text/x-python",
      "codemirror_mode": {
        "name": "ipython",
        "version": 3
      },
      "pygments_lexer": "ipython3",
      "nbconvert_exporter": "python",
      "file_extension": ".py"
    },
    "orig_nbformat": 4,
    "nteract": {
      "version": "nteract-front-end@1.0.0"
    }
  },
  "nbformat": 4,
  "nbformat_minor": 0
}